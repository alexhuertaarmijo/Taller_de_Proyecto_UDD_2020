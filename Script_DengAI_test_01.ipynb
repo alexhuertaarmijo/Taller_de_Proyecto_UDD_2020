{
  "nbformat": 4,
  "nbformat_minor": 0,
  "metadata": {
    "colab": {
      "name": "Script_DengAI_test_01.ipynb",
      "provenance": [],
      "authorship_tag": "ABX9TyN6gR/qv4qVDazCU/ntTl9b",
      "include_colab_link": true
    },
    "kernelspec": {
      "name": "python3",
      "display_name": "Python 3"
    }
  },
  "cells": [
    {
      "cell_type": "markdown",
      "metadata": {
        "id": "view-in-github",
        "colab_type": "text"
      },
      "source": [
        "<a href=\"https://colab.research.google.com/github/alexhuertaarmijo/Taller_de_Proyecto_UDD_2020/blob/master/Script_DengAI_test_01.ipynb\" target=\"_parent\"><img src=\"https://colab.research.google.com/assets/colab-badge.svg\" alt=\"Open In Colab\"/></a>"
      ]
    },
    {
      "cell_type": "code",
      "metadata": {
        "id": "o7O6evUo7BeY",
        "colab_type": "code",
        "colab": {}
      },
      "source": [
        "import pandas as pd\n",
        "import numpy as np\n",
        "import seaborn as sns\n",
        "import matplotlib.pyplot as plt\n",
        "%matplotlib inline\n",
        "\n",
        "from sklearn import preprocessing\n",
        "from sklearn.linear_model import LinearRegression\n",
        "from sklearn.model_selection import train_test_split\n",
        "\n",
        "# import xgboost as xgb\n",
        "# from xgboost import XGBRegressor\n",
        "\n",
        "import warnings\n",
        "warnings.filterwarnings(\"ignore\")"
      ],
      "execution_count": 0,
      "outputs": []
    },
    {
      "cell_type": "code",
      "metadata": {
        "id": "-yC4Zpyg7LKA",
        "colab_type": "code",
        "colab": {}
      },
      "source": [
        "# # train = pd.read_csv(\"Data/Training_Data_Features.csv\")\n",
        "# train[\"total_cases\"] = pd.read_csv(\"Data/Training_Data_Labels.csv\")[\"total_cases\"]\n",
        "# train[\"Type\"] = \"train\"\n",
        "\n",
        "# test = pd.read_csv(\"Data/Test_Data_Features.csv\")\n",
        "# test[\"total_cases\"] = np.nan\n",
        "# test[\"Type\"] = \"test\"\n",
        "# print(train.shape)\n",
        "# print(test.shape)\n",
        "\n",
        "\n",
        "train = pd.read_csv(\"C:/Users/abc/Desktop/Data Analytics/Projects/DengAI - Predicting Disease Spread/dengue_features_train.csv\")\n",
        "train[\"total_cases\"] = pd.read_csv(\"C:/Users/abc/Desktop/Data Analytics/Projects/DengAI - Predicting Disease Spread/dengue_labels_train.csv\")[\"total_cases\"]\n",
        "train[\"Type\"] = \"train\"\n",
        "\n",
        "test = pd.read_csv(\"C:/Users/abc/Desktop/Data Analytics/Projects/DengAI - Predicting Disease Spread/dengue_features_test.csv\")\n",
        "test[\"total_cases\"] = np.nan\n",
        "test[\"Type\"] = \"test\"\n",
        "print(train.shape)\n",
        "print(test.shape)"
      ],
      "execution_count": 0,
      "outputs": []
    },
    {
      "cell_type": "code",
      "metadata": {
        "id": "nILLeXAb7Q6L",
        "colab_type": "code",
        "colab": {}
      },
      "source": [
        "dframes = [train,test]\n",
        "data = pd.concat(dframes,ignore_index = True)\n",
        "print(data.shape)\n",
        "data.head()"
      ],
      "execution_count": 0,
      "outputs": []
    },
    {
      "cell_type": "markdown",
      "metadata": {
        "id": "vZ0Je2nu7V4D",
        "colab_type": "text"
      },
      "source": [
        "Description about the features\n",
        "City and date indicators\n",
        "city – City abbreviations: sj for San Juan and iq for Iquitos\n",
        "week_start_date – Date given in yyyy-mm-dd format\n",
        "\n",
        "NOAA's GHCN daily climate data weather station measurements\n",
        "station_max_temp_c – Maximum temperature\n",
        "station_min_temp_c – Minimum temperature\n",
        "station_avg_temp_c – Average temperature\n",
        "station_precip_mm – Total precipitation\n",
        "station_diur_temp_rng_c – Diurnal temperature range\n",
        "PERSIANN satellite precipitation measurements (0.25x0.25 degree scale)\n",
        "precipitation_amt_mm – Total precipitation\n",
        "NOAA's NCEP Climate Forecast System Reanalysis measurements (0.5x0.5 degree scale)\n",
        "reanalysis_sat_precip_amt_mm – Total precipitation\n",
        "reanalysis_dew_point_temp_k – Mean dew point temperature\n",
        "reanalysis_air_temp_k – Mean air temperature\n",
        "reanalysis_relative_humidity_percent – Mean relative humidity\n",
        "reanalysis_specific_humidity_g_per_kg – Mean specific humidity\n",
        "reanalysis_precip_amt_kg_per_m2 – Total precipitation\n",
        "reanalysis_max_air_temp_k – Maximum air temperature\n",
        "reanalysis_min_air_temp_k – Minimum air temperature\n",
        "reanalysis_avg_temp_k – Average air temperature\n",
        "reanalysis_tdtr_k – Diurnal temperature range\n",
        "Satellite vegetation - Normalized difference vegetation index (NDVI) - NOAA's CDR Normalized Difference Vegetation Index (0.5x0.5 degree scale) measurements\n",
        "ndvi_se – Pixel southeast of city centroid\n",
        "ndvi_sw – Pixel southwest of city centroid\n",
        "ndvi_ne – Pixel northeast of city centroid\n",
        "ndvi_nw – Pixel northwest of city centroid\n",
        "Checking if thre are any duplicate rows"
      ]
    },
    {
      "cell_type": "markdown",
      "metadata": {
        "id": "Ae7NO4yd7dMq",
        "colab_type": "text"
      },
      "source": [
        "Checking if thre are any duplicate rows\n"
      ]
    },
    {
      "cell_type": "code",
      "metadata": {
        "id": "unMszH7q7XkL",
        "colab_type": "code",
        "colab": {}
      },
      "source": [
        "np.sum(data.duplicated())"
      ],
      "execution_count": 0,
      "outputs": []
    },
    {
      "cell_type": "markdown",
      "metadata": {
        "id": "JRgL63o27hK0",
        "colab_type": "text"
      },
      "source": [
        "checking for missing values¶\n"
      ]
    },
    {
      "cell_type": "code",
      "metadata": {
        "id": "QJAYOs2p7aEE",
        "colab_type": "code",
        "colab": {}
      },
      "source": [
        "data.isnull().sum()\n"
      ],
      "execution_count": 0,
      "outputs": []
    },
    {
      "cell_type": "code",
      "metadata": {
        "id": "gcVDGPsW7oqb",
        "colab_type": "code",
        "colab": {}
      },
      "source": [
        "print(data.shape)\n",
        "print(data.dropna().shape)"
      ],
      "execution_count": 0,
      "outputs": []
    },
    {
      "cell_type": "markdown",
      "metadata": {
        "id": "_YQwDHHC7r2m",
        "colab_type": "text"
      },
      "source": [
        "Checking the distribution of the variables¶\n"
      ]
    },
    {
      "cell_type": "code",
      "metadata": {
        "id": "XYhUWb4z7scM",
        "colab_type": "code",
        "colab": {}
      },
      "source": [
        "plt.rc(\"font\", size=13)\n",
        "plt.figure(figsize=(20,50))\n",
        "alpha=0.6\n",
        "\n",
        "#--------------------------------------------------#\n",
        "\n",
        "ax1 = plt.subplot2grid((10,2), (0,0))\n",
        "data.ndvi_ne.plot(kind=\"kde\",alpha=alpha)\n",
        "ax1.set_xlabel(\"ndvi_ne\")\n",
        "\n",
        "ax2 = plt.subplot2grid((10,2),(0,1))\n",
        "data.ndvi_nw.plot(kind=\"kde\",alpha=alpha)\n",
        "ax2.set_xlabel(\"ndvi_nw\")\n",
        "\n",
        "\n",
        "ax3 = plt.subplot2grid((10,2),(1,0))\n",
        "data.ndvi_se.plot(kind=\"kde\",alpha=alpha)\n",
        "ax3.set_xlabel(\"ndvi_se\")\n",
        "\n",
        "ax4 = plt.subplot2grid((10,2),(1,1))\n",
        "data.ndvi_sw.plot(kind=\"kde\",alpha=alpha)\n",
        "ax4.set_xlabel(\"ndvi_sw\")\n",
        "\n",
        "\n",
        "ax5 = plt.subplot2grid((10,2),(2,0))\n",
        "data.precipitation_amt_mm.plot(kind=\"kde\",alpha=alpha)\n",
        "ax5.set_xlabel(\"precipitation_amt_mm\")\n",
        "\n",
        "ax6 = plt.subplot2grid((10,2),(2,1))\n",
        "data.reanalysis_air_temp_k.plot(kind=\"kde\",alpha=alpha)\n",
        "ax6.set_xlabel(\"reanalysis_air_temp_k\")\n",
        "\n",
        "\n",
        "ax7 = plt.subplot2grid((10,2),(3,0))\n",
        "data.reanalysis_avg_temp_k.plot(kind=\"kde\",alpha=alpha)\n",
        "ax7.set_xlabel(\"reanalysis_avg_temp_k\")\n",
        "\n",
        "ax8 = plt.subplot2grid((10,2),(3,1))\n",
        "data.reanalysis_dew_point_temp_k.plot(kind=\"kde\",alpha=alpha)\n",
        "ax8.set_xlabel(\"reanalysis_dew_point_temp_k\")\n",
        "\n",
        "\n",
        "ax9 = plt.subplot2grid((10,2),(4,0))\n",
        "data.reanalysis_max_air_temp_k.plot(kind=\"kde\",alpha=alpha)\n",
        "ax9.set_xlabel(\"reanalysis_max_air_temp_k\")\n",
        "\n",
        "ax10 = plt.subplot2grid((10,2),(4,1))\n",
        "data.reanalysis_min_air_temp_k.plot(kind=\"kde\",alpha=alpha)\n",
        "ax10.set_xlabel(\"reanalysis_min_air_temp_k\")\n",
        "\n",
        "\n",
        "ax11 = plt.subplot2grid((10,2),(5,0))\n",
        "data.reanalysis_precip_amt_kg_per_m2.plot(kind=\"kde\",alpha=alpha)\n",
        "ax11.set_xlabel(\"reanalysis_precip_amt_kg_per_m2\")\n",
        "\n",
        "ax12 = plt.subplot2grid((10,2),(5,1))\n",
        "data.reanalysis_relative_humidity_percent.plot(kind=\"kde\",alpha=alpha)\n",
        "ax12.set_xlabel(\"reanalysis_relative_humidity_percent\")\n",
        "\n",
        "\n",
        "ax13 = plt.subplot2grid((10,2),(6,0))\n",
        "data.reanalysis_sat_precip_amt_mm.plot(kind=\"kde\",alpha=alpha)\n",
        "ax13.set_xlabel(\"reanalysis_sat_precip_amt_mm\")\n",
        "\n",
        "ax14 = plt.subplot2grid((10,2),(6,1))\n",
        "data.reanalysis_specific_humidity_g_per_kg.plot(kind=\"kde\",alpha=alpha)\n",
        "ax14.set_xlabel(\"reanalysis_specific_humidity_g_per_kg\")\n",
        "\n",
        "\n",
        "ax15 = plt.subplot2grid((10,2),(7,0))\n",
        "data.reanalysis_tdtr_k.plot(kind=\"kde\",alpha=alpha)\n",
        "ax15.set_xlabel(\"reanalysis_tdtr_k\")\n",
        "\n",
        "ax16 = plt.subplot2grid((10,2),(7,1))\n",
        "data.station_avg_temp_c.plot(kind=\"kde\",alpha=alpha)\n",
        "ax16.set_xlabel(\"station_avg_temp_c\")\n",
        "\n",
        "\n",
        "ax17 = plt.subplot2grid((10,2),(8,0))\n",
        "data.station_diur_temp_rng_c.plot(kind=\"kde\",alpha=alpha)\n",
        "ax17.set_xlabel(\"station_diur_temp_rng_c\")\n",
        "\n",
        "ax18 = plt.subplot2grid((10,2),(8,1))\n",
        "data.station_max_temp_c.plot(kind=\"kde\",alpha=alpha)\n",
        "ax18.set_xlabel(\"station_max_temp_c\")\n",
        "\n",
        "\n",
        "ax19 = plt.subplot2grid((10,2),(9,0))\n",
        "data.station_min_temp_c.plot(kind=\"kde\",alpha=alpha)\n",
        "ax19.set_xlabel(\"station_min_temp_c\")\n",
        "\n",
        "ax20 = plt.subplot2grid((10,2),(9,1))\n",
        "data.station_precip_mm.plot(kind=\"kde\",alpha=alpha)\n",
        "ax20.set_xlabel(\"station_precip_mm\")\n",
        "\n",
        "#--------------------------------------------------#\n"
      ],
      "execution_count": 0,
      "outputs": []
    },
    {
      "cell_type": "code",
      "metadata": {
        "id": "cweO9CeQ70MM",
        "colab_type": "code",
        "colab": {}
      },
      "source": [
        ""
      ],
      "execution_count": 0,
      "outputs": []
    },
    {
      "cell_type": "markdown",
      "metadata": {
        "id": "b0Us7JRG72zN",
        "colab_type": "text"
      },
      "source": [
        "For the variables which are Normally distributed, we have imputed using mean value;¶\n"
      ]
    },
    {
      "cell_type": "markdown",
      "metadata": {
        "id": "hh-lWgH973Zz",
        "colab_type": "text"
      },
      "source": [
        "And for the ones which are Right/Left skewed, we have imputed using median value.\n"
      ]
    },
    {
      "cell_type": "code",
      "metadata": {
        "id": "Lo-Ih3hS75eH",
        "colab_type": "code",
        "colab": {}
      },
      "source": [
        "    if column in ['ndvi_ne','precipitation_amt_mm','reanalysis_air_temp_k','reanalysis_dew_point_temp_k',\n",
        "                  'reanalysis_max_air_temp_k','reanalysis_min_air_temp_k','reanalysis_relative_humidity_percent',\n",
        "                  'reanalysis_sat_precip_amt_mm','reanalysis_specific_humidity_g_per_kg','reanalysis_tdtr_k',\n",
        "                  'station_avg_temp_c','station_diur_temp_rng_c','station_min_temp_c']:\n",
        "        data[column].fillna(data[column].median(),inplace=True)\n",
        "    elif column in ['ndvi_nw','ndvi_se','ndvi_sw','reanalysis_avg_temp_k','reanalysis_precip_amt_kg_per_m2',\n",
        "                    'station_max_temp_c','station_precip_mm']:\n",
        "        data[column].fillna(data[column].mean(),inplace=True)"
      ],
      "execution_count": 0,
      "outputs": []
    },
    {
      "cell_type": "code",
      "metadata": {
        "id": "zGSdseO978El",
        "colab_type": "code",
        "colab": {}
      },
      "source": [
        "data.isnull().sum()\n"
      ],
      "execution_count": 0,
      "outputs": []
    },
    {
      "cell_type": "code",
      "metadata": {
        "id": "yL3OR7gb8CHF",
        "colab_type": "code",
        "colab": {}
      },
      "source": [
        "XCols = ['city', 'year', 'weekofyear', 'week_start_date', 'ndvi_ne', 'ndvi_nw',\n",
        "       'ndvi_se', 'ndvi_sw', 'precipitation_amt_mm', 'reanalysis_air_temp_k',\n",
        "       'reanalysis_avg_temp_k', 'reanalysis_dew_point_temp_k',\n",
        "       'reanalysis_max_air_temp_k', 'reanalysis_min_air_temp_k',\n",
        "       'reanalysis_precip_amt_kg_per_m2',\n",
        "       'reanalysis_relative_humidity_percent', 'reanalysis_sat_precip_amt_mm',\n",
        "       'reanalysis_specific_humidity_g_per_kg', 'reanalysis_tdtr_k',\n",
        "       'station_avg_temp_c', 'station_diur_temp_rng_c', 'station_max_temp_c',\n",
        "       'station_min_temp_c', 'station_precip_mm','Type']\n",
        "YCols = 'total_cases'"
      ],
      "execution_count": 0,
      "outputs": []
    },
    {
      "cell_type": "code",
      "metadata": {
        "id": "rmfIy_m98Cuc",
        "colab_type": "code",
        "colab": {}
      },
      "source": [
        "\n",
        "from sklearn.model_selection import train_test_split\n",
        "\n",
        "XX = data.loc[data[\"Type\"]==\"train\",XCols]\n",
        "yy = data.loc[data[\"Type\"]==\"train\",YCols]\n",
        "XX = XX.drop(['city','year','weekofyear','week_start_date','Type'],axis=1)\n",
        "print(XX.shape)\n",
        "print(yy.shape)\n",
        "X_train, X_test, y_train, y_test = train_test_split(XX, yy, test_size=0.3, random_state=5)"
      ],
      "execution_count": 0,
      "outputs": []
    },
    {
      "cell_type": "markdown",
      "metadata": {
        "id": "4cIlnpTl8G33",
        "colab_type": "text"
      },
      "source": [
        "Fitting model : Multiple Linear Regression¶\n"
      ]
    },
    {
      "cell_type": "code",
      "metadata": {
        "id": "gKZZdlaI8Hsr",
        "colab_type": "code",
        "colab": {}
      },
      "source": [
        "reg = linear_model.LinearRegression(fit_intercept=True,normalize=True)\n",
        "reg.fit(XX_train,yy_train)\n",
        "print(reg.intercept_)\n",
        "reg.coef_"
      ],
      "execution_count": 0,
      "outputs": []
    },
    {
      "cell_type": "code",
      "metadata": {
        "id": "e9hXZCgn8NYl",
        "colab_type": "code",
        "colab": {}
      },
      "source": [
        "\n",
        "print(len(reg.coef_))"
      ],
      "execution_count": 0,
      "outputs": []
    },
    {
      "cell_type": "code",
      "metadata": {
        "id": "kdGMAc7Y8WRf",
        "colab_type": "code",
        "colab": {}
      },
      "source": [
        "\n",
        "from sklearn import metrics\n",
        "from sklearn.metrics import r2_score\n",
        "metrics.mean_squared_error(y_true=yy_test, y_pred=yy_predicted)"
      ],
      "execution_count": 0,
      "outputs": []
    },
    {
      "cell_type": "code",
      "metadata": {
        "id": "jgBlOLav8Zl-",
        "colab_type": "code",
        "colab": {}
      },
      "source": [
        "r2_score(yy_test, yy_predicted)"
      ],
      "execution_count": 0,
      "outputs": []
    },
    {
      "cell_type": "markdown",
      "metadata": {
        "id": "cgceEihL8TKd",
        "colab_type": "text"
      },
      "source": [
        "Predicting on real data¶\n"
      ]
    },
    {
      "cell_type": "code",
      "metadata": {
        "id": "GAIkEE048i29",
        "colab_type": "code",
        "colab": {}
      },
      "source": [
        "test_X = data.loc[data[\"Type\"]==\"test\",XCols]\n"
      ],
      "execution_count": 0,
      "outputs": []
    },
    {
      "cell_type": "code",
      "metadata": {
        "id": "siK2SvNQ8jVH",
        "colab_type": "code",
        "colab": {}
      },
      "source": [
        "test_X = test_X.drop(['city','year','weekofyear','week_start_date','Type'],axis=1)\n"
      ],
      "execution_count": 0,
      "outputs": []
    },
    {
      "cell_type": "code",
      "metadata": {
        "id": "gtB4AgLM8k_c",
        "colab_type": "code",
        "colab": {}
      },
      "source": [
        "Cases_Prediction = test_X\n",
        "Cases_Prediction.head()\n"
      ],
      "execution_count": 0,
      "outputs": []
    },
    {
      "cell_type": "code",
      "metadata": {
        "id": "lMtF5Jds8rcZ",
        "colab_type": "code",
        "colab": {}
      },
      "source": [
        "Prediction = reg.predict(Cases_Prediction)\n",
        "len(Prediction)\n",
        "Prediction"
      ],
      "execution_count": 0,
      "outputs": []
    },
    {
      "cell_type": "code",
      "metadata": {
        "id": "w-UhxlOA8wjx",
        "colab_type": "code",
        "colab": {}
      },
      "source": [
        "# Columns to use in final output file\n",
        "Data_Predicted = pd.read_csv(\"C:/Users/abc/Desktop/Data Analytics/Projects/DengAI - Predicting Disease Spread/dengue_features_test.csv\",usecols=[\"city\",\"year\",\"weekofyear\"])"
      ],
      "execution_count": 0,
      "outputs": []
    },
    {
      "cell_type": "code",
      "metadata": {
        "id": "A4kAa0Ma8osE",
        "colab_type": "code",
        "colab": {}
      },
      "source": [
        "Data_Predicted['total_cases'] = round(pd.Series(Prediction))\n",
        "Data_Predicted.head()"
      ],
      "execution_count": 0,
      "outputs": []
    },
    {
      "cell_type": "code",
      "metadata": {
        "id": "cBx-ZlQN82md",
        "colab_type": "code",
        "colab": {}
      },
      "source": [
        "Data_Predicted['total_cases'] = Data_Predicted['total_cases'].astype('int64')\n"
      ],
      "execution_count": 0,
      "outputs": []
    },
    {
      "cell_type": "code",
      "metadata": {
        "id": "9sH5d-oj84RE",
        "colab_type": "code",
        "colab": {}
      },
      "source": [
        "for idx in range(Data_Predicted.shape[0]):\n",
        "    if Data_Predicted.total_cases[idx]<0:\n",
        "        Data_Predicted.total_cases[idx] = 0"
      ],
      "execution_count": 0,
      "outputs": []
    },
    {
      "cell_type": "markdown",
      "metadata": {
        "id": "sqdxFXfM89m3",
        "colab_type": "text"
      },
      "source": [
        "Writing final output to .csv File¶\n"
      ]
    },
    {
      "cell_type": "code",
      "metadata": {
        "id": "T6Il2uE38-tG",
        "colab_type": "code",
        "colab": {}
      },
      "source": [
        "Data_Predicted.to_csv('C:/Users/abc/Desktop/Data Analytics/Projects/DengAI - Predicting Disease Spread/Final_Output.csv',index=False)"
      ],
      "execution_count": 0,
      "outputs": []
    },
    {
      "cell_type": "code",
      "metadata": {
        "id": "0VsSF4o487iG",
        "colab_type": "code",
        "colab": {}
      },
      "source": [
        ""
      ],
      "execution_count": 0,
      "outputs": []
    }
  ]
}